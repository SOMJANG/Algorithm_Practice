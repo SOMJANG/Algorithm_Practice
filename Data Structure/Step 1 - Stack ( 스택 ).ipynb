{
 "cells": [
  {
   "cell_type": "markdown",
   "metadata": {},
   "source": [
    "# Stack ( 스택 )\n",
    "\n",
    "### 작성일 : 2021년 5월 1일 토요일\n",
    "### 작성자 : 장동현\n",
    "### 상세설명 : https://bit.ly/3aRMgCA"
   ]
  },
  {
   "cell_type": "markdown",
   "metadata": {},
   "source": [
    "### Python List로 구현하기"
   ]
  },
  {
   "cell_type": "code",
   "execution_count": 1,
   "metadata": {},
   "outputs": [],
   "source": [
    "class Stack():\n",
    "    def __init__(self):\n",
    "        self.stack = []\n",
    "        \n",
    "    def push(self, data):\n",
    "        self.stack.append(data)\n",
    "        \n",
    "    def pop(self):\n",
    "        pop_object = None\n",
    "        if self.isEmpty():\n",
    "            print(\"Stack is Empty\")\n",
    "        else:\n",
    "            pop_object = self.stack.pop()\n",
    "            \n",
    "        return pop_object\n",
    "            \n",
    "    def top(self):\n",
    "        top_object = None\n",
    "        if self.isEmpty():\n",
    "            print(\"Stack is Empty\")\n",
    "        else:\n",
    "            top_object = self.stack[-1]\n",
    "            \n",
    "        return top_object\n",
    "            \n",
    "            \n",
    "    def isEmpty(self):\n",
    "        is_empty = False\n",
    "        if len(self.stack) == 0:\n",
    "            is_empty = True\n",
    "        return is_empty"
   ]
  },
  {
   "cell_type": "code",
   "execution_count": 2,
   "metadata": {},
   "outputs": [
    {
     "name": "stdout",
     "output_type": "stream",
     "text": [
      "[1, 2, 3]\n",
      "3\n",
      "3\n",
      "2\n",
      "1\n",
      "Stack is Empty\n",
      "True\n"
     ]
    }
   ],
   "source": [
    "test_stack = Stack()\n",
    "\n",
    "# push data\n",
    "test_stack.push(1)\n",
    "test_stack.push(2)\n",
    "test_stack.push(3)\n",
    "print(test_stack.stack)\n",
    "\n",
    "# top data\n",
    "top_object = test_stack.top()\n",
    "print(top_object)\n",
    "\n",
    "# pop data\n",
    "pop_object = test_stack.pop()\n",
    "print(pop_object)\n",
    "pop_object = test_stack.pop()\n",
    "print(pop_object)\n",
    "pop_object = test_stack.pop()\n",
    "print(pop_object)\n",
    "pop_object = test_stack.pop()\n",
    "\n",
    "# isEmpty\n",
    "is_empty = test_stack.isEmpty()\n",
    "print(is_empty)"
   ]
  },
  {
   "cell_type": "markdown",
   "metadata": {},
   "source": [
    "---"
   ]
  },
  {
   "cell_type": "markdown",
   "metadata": {},
   "source": [
    "### Python Singly Linked List로 구현하기"
   ]
  },
  {
   "cell_type": "code",
   "execution_count": 3,
   "metadata": {},
   "outputs": [],
   "source": [
    "class Node:\n",
    "    def __init__(self, data):\n",
    "        self.data = data\n",
    "        self.next = None\n",
    "\n",
    "class LinkedListStack():\n",
    "    def __init__(self):\n",
    "        self.head = None\n",
    "        \n",
    "    def push(self, data):\n",
    "        new_node = Node(data)\n",
    "        new_node.next = self.head\n",
    "        self.head = new_node\n",
    "        \n",
    "    def pop(self):\n",
    "        pop_object = None\n",
    "        if self.isEmpty():\n",
    "            print(\"Stack is Empty\")\n",
    "        else:\n",
    "            pop_object = self.head.data\n",
    "            self.head = self.head.next\n",
    "        return pop_object\n",
    "    \n",
    "    def top(self):\n",
    "        top_object = None\n",
    "        if self.isEmpty():\n",
    "            print(\"Stack is Empty\")\n",
    "        else:\n",
    "            top_object = self.head.data            \n",
    "        return top_object\n",
    "    \n",
    "    def isEmpty(self):\n",
    "        is_empty = False\n",
    "        if self.head is None:\n",
    "            is_empty = True\n",
    "        return is_empty"
   ]
  },
  {
   "cell_type": "code",
   "execution_count": 4,
   "metadata": {},
   "outputs": [
    {
     "name": "stdout",
     "output_type": "stream",
     "text": [
      "3\n",
      "3\n",
      "3\n",
      "2\n",
      "1\n",
      "Stack is Empty\n",
      "True\n"
     ]
    }
   ],
   "source": [
    "test_stack = LinkedListStack()\n",
    "\n",
    "# push data\n",
    "test_stack.push(1)\n",
    "test_stack.push(2)\n",
    "test_stack.push(3)\n",
    "print(test_stack.head.data)\n",
    "\n",
    "# top data\n",
    "top_object = test_stack.top()\n",
    "print(top_object)\n",
    "\n",
    "# pop data\n",
    "pop_object = test_stack.pop()\n",
    "print(pop_object)\n",
    "pop_object = test_stack.pop()\n",
    "print(pop_object)\n",
    "pop_object = test_stack.pop()\n",
    "print(pop_object)\n",
    "pop_object = test_stack.pop()\n",
    "\n",
    "# isEmpty\n",
    "is_empty = test_stack.isEmpty()\n",
    "print(is_empty)"
   ]
  }
 ],
 "metadata": {
  "kernelspec": {
   "display_name": "Python 3",
   "language": "python",
   "name": "python3"
  },
  "language_info": {
   "codemirror_mode": {
    "name": "ipython",
    "version": 3
   },
   "file_extension": ".py",
   "mimetype": "text/x-python",
   "name": "python",
   "nbconvert_exporter": "python",
   "pygments_lexer": "ipython3",
   "version": "3.7.3"
  }
 },
 "nbformat": 4,
 "nbformat_minor": 2
}
