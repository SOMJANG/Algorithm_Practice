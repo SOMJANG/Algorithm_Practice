{
 "cells": [
  {
   "cell_type": "markdown",
   "metadata": {},
   "source": [
    "# Queue ( 큐 )\n",
    "\n",
    "### 작성일 : 2021년 5월 7일 금요일\n",
    "### 작성자 : 장동현\n",
    "### 상세설명 : https://bit.ly/3vRXI9H"
   ]
  },
  {
   "cell_type": "markdown",
   "metadata": {},
   "source": [
    "### Python List로 구현하기"
   ]
  },
  {
   "cell_type": "code",
   "execution_count": 1,
   "metadata": {},
   "outputs": [],
   "source": [
    "class Queue():\n",
    "    def __init__(self):\n",
    "        self.queue = []\n",
    "        \n",
    "    def enqueue(self, data):\n",
    "        self.queue.append(data)\n",
    "        \n",
    "    def dequeue(self):\n",
    "        dequeue_object = None\n",
    "        if self.isEmpty():\n",
    "            print(\"Queue is Empty\")\n",
    "        else:\n",
    "            dequeue_object = self.queue[0]\n",
    "            self.queue = self.queue[1:]\n",
    "            \n",
    "        return dequeue_object\n",
    "            \n",
    "    def peek(self):\n",
    "        peek_object = None\n",
    "        if self.isEmpty():\n",
    "            print(\"Queue is Empty\")\n",
    "        else:\n",
    "            peek_object = self.queue[0]\n",
    "            \n",
    "        return peek_object\n",
    "            \n",
    "    def isEmpty(self):\n",
    "        is_empty = False\n",
    "        if len(self.queue) == 0:\n",
    "            is_empty = True\n",
    "        return is_empty"
   ]
  },
  {
   "cell_type": "code",
   "execution_count": 2,
   "metadata": {},
   "outputs": [
    {
     "name": "stdout",
     "output_type": "stream",
     "text": [
      "[1, 2, 3]\n",
      "1\n",
      "1\n",
      "2\n",
      "3\n",
      "Queue is Empty\n",
      "True\n"
     ]
    }
   ],
   "source": [
    "test_queue = Queue()\n",
    "\n",
    "# enqueue data\n",
    "test_queue.enqueue(1)\n",
    "test_queue.enqueue(2)\n",
    "test_queue.enqueue(3)\n",
    "print(test_queue.queue)\n",
    "\n",
    "# peek data\n",
    "peek_object = test_queue.peek()\n",
    "print(peek_object)\n",
    "\n",
    "# dequeue data\n",
    "dequeue_object = test_queue.dequeue()\n",
    "print(dequeue_object)\n",
    "dequeue_object = test_queue.dequeue()\n",
    "print(dequeue_object)\n",
    "dequeue_object = test_queue.dequeue()\n",
    "print(dequeue_object)\n",
    "dequeue_object = test_queue.dequeue()\n",
    "\n",
    "# isEmpty\n",
    "is_empty = test_queue.isEmpty()\n",
    "print(is_empty)"
   ]
  },
  {
   "cell_type": "markdown",
   "metadata": {},
   "source": [
    "---"
   ]
  },
  {
   "cell_type": "markdown",
   "metadata": {},
   "source": [
    "### Python Singly Linked List로 구현하기"
   ]
  },
  {
   "cell_type": "code",
   "execution_count": 3,
   "metadata": {},
   "outputs": [],
   "source": [
    "class Node:\n",
    "    def __init__(self, data):\n",
    "        self.data = data\n",
    "        self.next = None\n",
    "\n",
    "class LinkedListQueue():\n",
    "    def __init__(self):\n",
    "        self.front = None\n",
    "        self.rear = None\n",
    "        \n",
    "    def enqueue(self, data):\n",
    "        new_node = Node(data)\n",
    "        \n",
    "        if self.front is None:\n",
    "            self.front = new_node\n",
    "            self.rear = new_node\n",
    "        else:\n",
    "            self.rear.next = new_node\n",
    "            self.rear = self.rear.next\n",
    "        \n",
    "    def dequeue(self):\n",
    "        dequeue_object = None\n",
    "        if self.isEmpty():\n",
    "            print(\"Queue is Empty\")\n",
    "        else:\n",
    "            dequeue_object = self.front.data\n",
    "            self.front = self.front.next\n",
    "            \n",
    "        if self.front is None:\n",
    "            self.rear = None\n",
    "        return dequeue_object\n",
    "    \n",
    "    def peek(self):\n",
    "        front_object = None\n",
    "        if self.isEmpty():\n",
    "            print(\"Queue is Empty\")\n",
    "        else:\n",
    "            front_object = self.front.data            \n",
    "        return front_object\n",
    "    \n",
    "    def isEmpty(self):\n",
    "        is_empty = False\n",
    "        if self.front is None:\n",
    "            is_empty = True\n",
    "        return is_empty"
   ]
  },
  {
   "cell_type": "code",
   "execution_count": 4,
   "metadata": {},
   "outputs": [
    {
     "name": "stdout",
     "output_type": "stream",
     "text": [
      "front :  1\n",
      "rear :  1\n",
      "front :  1\n",
      "rear :  2\n",
      "front :  1\n",
      "rear :  3\n",
      "1\n",
      "1\n",
      "front :  2\n",
      "rear :  3\n",
      "2\n",
      "front :  3\n",
      "rear :  3\n",
      "3\n",
      "Queue is Empty\n",
      "True\n"
     ]
    }
   ],
   "source": [
    "test_queue = LinkedListQueue()\n",
    "\n",
    "# enqueue data\n",
    "test_queue.enqueue(1)\n",
    "print(\"front : \", test_queue.front.data)\n",
    "print(\"rear : \", test_queue.rear.data)\n",
    "test_queue.enqueue(2)\n",
    "print(\"front : \", test_queue.front.data)\n",
    "print(\"rear : \", test_queue.rear.data)\n",
    "test_queue.enqueue(3)\n",
    "print(\"front : \", test_queue.front.data)\n",
    "print(\"rear : \", test_queue.rear.data)\n",
    "\n",
    "# peek data\n",
    "peek_object = test_queue.peek()\n",
    "print(peek_object)\n",
    "\n",
    "# dequeue data\n",
    "dequeue_object = test_queue.dequeue()\n",
    "print(dequeue_object)\n",
    "print(\"front : \", test_queue.front.data)\n",
    "print(\"rear : \", test_queue.rear.data)\n",
    "dequeue_object = test_queue.dequeue()\n",
    "print(dequeue_object)\n",
    "print(\"front : \", test_queue.front.data)\n",
    "print(\"rear : \", test_queue.rear.data)\n",
    "dequeue_object = test_queue.dequeue()\n",
    "print(dequeue_object)\n",
    "dequeue_object = test_queue.dequeue()\n",
    "\n",
    "# isEmpty\n",
    "is_empty = test_queue.isEmpty()\n",
    "print(is_empty)"
   ]
  }
 ],
 "metadata": {
  "kernelspec": {
   "display_name": "Python 3",
   "language": "python",
   "name": "python3"
  },
  "language_info": {
   "codemirror_mode": {
    "name": "ipython",
    "version": 3
   },
   "file_extension": ".py",
   "mimetype": "text/x-python",
   "name": "python",
   "nbconvert_exporter": "python",
   "pygments_lexer": "ipython3",
   "version": "3.7.3"
  }
 },
 "nbformat": 4,
 "nbformat_minor": 2
}
